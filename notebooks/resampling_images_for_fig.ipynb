{
 "cells": [
  {
   "cell_type": "markdown",
   "metadata": {},
   "source": [
    "# first we want an higher res version of the anat"
   ]
  },
  {
   "cell_type": "code",
   "execution_count": 1,
   "metadata": {
    "collapsed": true
   },
   "outputs": [],
   "source": [
    "import os\n",
    "from ciftify.utils import run"
   ]
  },
  {
   "cell_type": "code",
   "execution_count": 2,
   "metadata": {},
   "outputs": [
    {
     "data": {
      "text/plain": [
       "0"
      ]
     },
     "execution_count": 2,
     "metadata": {},
     "output_type": "execute_result"
    }
   ],
   "source": [
    "run(['applywarp', '--rel', '--interp=trilinear', \n",
    "     '-i', '/scratch/edickie/ciftify_paper/ds000031/output/ciftify/sub-01/T1w/T1w.nii.gz',\n",
    "    '-r', '/opt/quarantine/FSL/5.0.10/build/data/standard/MNI152_T1_1mm.nii.gz',\n",
    "     '-w', '/scratch/edickie/ciftify_paper/ds000031/output/ciftify/sub-01/MNINonLinear/xfms/T1w2Standard_warp_noaffine.nii.gz',\n",
    "    '--premat=/scratch/edickie/ciftify_paper/ds000031/output/ciftify/sub-01/MNINonLinear/xfms/T1w2StandardLinear.mat', \n",
    "     '-o', '/scratch/edickie/ciftify_paper/ds000031/output/ciftify/sub-01/MNINonLinear/T1w.1mm.nii.gz'])"
   ]
  },
  {
   "cell_type": "code",
   "execution_count": 3,
   "metadata": {},
   "outputs": [
    {
     "data": {
      "text/plain": [
       "0"
      ]
     },
     "execution_count": 3,
     "metadata": {},
     "output_type": "execute_result"
    }
   ],
   "source": [
    "run(['applywarp', '--rel', '--interp=trilinear', \n",
    "     '-i', '/scratch/edickie/ciftify_paper/HCP/output4/phase_switchdir/ciftify/sub-100307/T1w/T1w.nii.gz',\n",
    "    '-r', '/opt/quarantine/FSL/5.0.10/build/data/standard/MNI152_T1_1mm.nii.gz',\n",
    "     '-w', '/scratch/edickie/ciftify_paper/HCP/output4/phase_switchdir/ciftify/sub-100307/MNINonLinear/xfms/T1w2Standard_warp_noaffine.nii.gz',\n",
    "    '--premat=/scratch/edickie/ciftify_paper/HCP/output4/phase_switchdir/ciftify/sub-100307/MNINonLinear/xfms/T1w2StandardLinear.mat', \n",
    "     '-o', '/scratch/edickie/ciftify_paper/HCP/output4/phase_switchdir/ciftify/sub-100307/MNINonLinear/T1w.1mm.nii.gz'])"
   ]
  },
  {
   "cell_type": "code",
   "execution_count": 4,
   "metadata": {
    "collapsed": true
   },
   "outputs": [],
   "source": [
    "import nilearn.image"
   ]
  },
  {
   "cell_type": "code",
   "execution_count": null,
   "metadata": {
    "collapsed": true
   },
   "outputs": [],
   "source": []
  },
  {
   "cell_type": "code",
   "execution_count": 6,
   "metadata": {
    "collapsed": true
   },
   "outputs": [],
   "source": [
    "ds00031_anatypes= ['force-syn',  'none',  'phase',  'syn-sdc']\n",
    "sessions=['015','018']"
   ]
  },
  {
   "cell_type": "code",
   "execution_count": 7,
   "metadata": {},
   "outputs": [
    {
     "data": {
      "text/plain": [
       "'/scratch/edickie/ciftify_paper/ds000031/output/ciftify/force-syn/fmriprep/sub-01/ses-015/func/sub-01_ses-015_task-rest_run-001_bold_space-T1w_preproc.nii.gz'"
      ]
     },
     "execution_count": 7,
     "metadata": {},
     "output_type": "execute_result"
    }
   ],
   "source": [
    "def native_func_file(outputdir, anatype, subject, session):\n",
    "    '''contructs the path to the native func file'''\n",
    "    native_func = os.path.join(outputdir, \n",
    "                             anatype, \n",
    "                             'fmriprep', \n",
    "                             'sub-{}'.format(subject),\n",
    "                             'ses-{}'.format(session), 'func',\n",
    "                             'sub-{}_ses-{}_task-rest_run-001_bold_space-T1w_preproc.nii.gz'.format(\n",
    "                             subject, session))\n",
    "    return(native_func)\n",
    "                             \n",
    "native_func_file('/scratch/edickie/ciftify_paper/ds000031/output/',\n",
    "                ds00031_anatypes[0],\n",
    "                '01', sessions[0])\n"
   ]
  },
  {
   "cell_type": "code",
   "execution_count": 11,
   "metadata": {
    "collapsed": true
   },
   "outputs": [],
   "source": [
    "def ciftify_native_reference(ciftify_outputs, subject, session, anatype):\n",
    "    \n",
    "    ciftify_native_dir=os.path.join(ciftify_outputs,\n",
    "                                    'sub-{}'.format(subject),\n",
    "                                    'MNINonLinear',\n",
    "                                    'Results',\n",
    "                                    'ses-{}_task-rest_run-001_{}'.format(session, anatype),\n",
    "                                    'native')\n",
    "    if not os.path.exists(ciftify_native_dir):\n",
    "        os.makedirs(ciftify_native_dir)\n",
    "    ciftify_native_file = os.path.join(ciftify_native_dir, \n",
    "                                      'ses-{}_task-rest_run-001_{}.nii.gz'.format(session, anatype))\n",
    "    return(ciftify_native_file)"
   ]
  },
  {
   "cell_type": "code",
   "execution_count": 12,
   "metadata": {},
   "outputs": [
    {
     "data": {
      "text/plain": [
       "'/scratch/edickie/ciftify_paper/ds000031/output/ciftify/sub-01/MNINonLinear/Results/ses-015_task-rest_run-001_force-syn/native/ses-015_task-rest_run-001_force-syn.nii.gz'"
      ]
     },
     "execution_count": 12,
     "metadata": {},
     "output_type": "execute_result"
    }
   ],
   "source": [
    "ciftify_native_reference('/scratch/edickie/ciftify_paper/ds000031/output/ciftify/',\n",
    "                        '01', sessions[0], ds00031_anatypes[0])"
   ]
  },
  {
   "cell_type": "code",
   "execution_count": 13,
   "metadata": {
    "collapsed": true
   },
   "outputs": [],
   "source": [
    "def take_firstvol_and_reslice(input_file, output_file, reference_image):\n",
    "    '''does the nilearn resampling magik'''\n",
    "    img = nilearn.image.index_img(imgs= input_file, index=0)\n",
    "    img = nilearn.image.resample_to_img(source_img = img,\n",
    "                                        target_img = reference_image)\n",
    "    img.to_filename(output_file)"
   ]
  },
  {
   "cell_type": "code",
   "execution_count": 16,
   "metadata": {},
   "outputs": [],
   "source": [
    "fmriprep_outputs='/scratch/edickie/ciftify_paper/ds000031/output/'\n",
    "ciftify_outputs = '/scratch/edickie/ciftify_paper/ds000031/output/ciftify/'\n",
    "reference_anat = '/scratch/edickie/ciftify_paper/ds000031/output/ciftify/sub-01/T1w/T1w.nii.gz'\n",
    "for anatype in ds00031_anatypes:\n",
    "    for session in sessions:\n",
    "        subject = '01'\n",
    "        take_firstvol_and_reslice(input_file = native_func_file(fmriprep_outputs,\n",
    "                                                               anatype,\n",
    "                                                               subject,\n",
    "                                                               session),\n",
    "                                 output_file = ciftify_native_reference(ciftify_outputs,\n",
    "                                                                       subject,\n",
    "                                                                       session,\n",
    "                                                                       anatype),\n",
    "                                 reference_image = reference_anat)\n"
   ]
  },
  {
   "cell_type": "code",
   "execution_count": 19,
   "metadata": {},
   "outputs": [],
   "source": [
    "for anatype in ds00031_anatypes:\n",
    "    for session in sessions:\n",
    "        subject = '01'\n",
    "        take_firstvol_and_reslice(input_file=os.path.join('/scratch/edickie/ciftify_paper/ds000031/output/ciftify/sub-01/MNINonLinear/Results/'\n",
    "                                                          'ses-{}_task-rest_run-001_{}'.format(session, anatype),\n",
    "                                                          'ses-{}_task-rest_run-001_{}.nii.gz'.format(session, anatype)),\n",
    "                                 output_file=os.path.join('/scratch/edickie/ciftify_paper/ds000031/output/ciftify/sub-01/MNINonLinear/Results/'\n",
    "                                                          'ses-{}_task-rest_run-001_{}'.format(session, anatype),\n",
    "                                                          'ses-{}_task-rest_run-001_{}_ref1mm.nii.gz'.format(session, anatype)),\n",
    "                                 reference_image = '/scratch/edickie/ciftify_paper/ds000031/output/ciftify/sub-01/MNINonLinear/T1w.1mm.nii.gz')"
   ]
  },
  {
   "cell_type": "code",
   "execution_count": 21,
   "metadata": {
    "collapsed": true
   },
   "outputs": [],
   "source": [
    "hcp_anatypes=[\"none\", \"phase_switchdir\",  'syn-sdc',  'topup']\n",
    "task_outbase='task-EMOTION_acq-LR_{}'.format(anatype)\n",
    "hcp_subject=\"100307\"\n",
    "def ciftify_hcp_native_reference(ciftify_outputs, subject, anatype):\n",
    "    \n",
    "    ciftify_native_dir=os.path.join(ciftify_outputs,\n",
    "                                    'sub-{}'.format(subject),\n",
    "                                    'MNINonLinear',\n",
    "                                    'Results',\n",
    "                                    'task-EMOTION_acq-LR_{}'.format(anatype),\n",
    "                                    'native')\n",
    "    if not os.path.exists(ciftify_native_dir):\n",
    "        os.makedirs(ciftify_native_dir)\n",
    "    ciftify_native_file = os.path.join(ciftify_native_dir, \n",
    "                                      'task-EMOTION_acq-LR_{}'.format(anatype))\n",
    "    return(ciftify_native_file)"
   ]
  },
  {
   "cell_type": "code",
   "execution_count": 24,
   "metadata": {},
   "outputs": [
    {
     "data": {
      "text/plain": [
       "'/scratch/edickie/ciftify_paper/HCP/output/none/fmriprep/sub-100307/func/sub-100307_task-EMOTION_acq-LR_bold_space-T1w_preproc.nii.gz'"
      ]
     },
     "execution_count": 24,
     "metadata": {},
     "output_type": "execute_result"
    }
   ],
   "source": [
    "def native_func_file(outputdir, anatype, subject):\n",
    "    '''contructs the path to the native func file'''\n",
    "    native_func = os.path.join(outputdir, \n",
    "                             anatype, 'fmriprep',\n",
    "                             'sub-{}'.format(subject),\n",
    "                             'func',\n",
    "                             'sub-{}_task-EMOTION_acq-LR_bold_space-T1w_preproc.nii.gz'.format(\n",
    "                             subject))\n",
    "    return(native_func)\n",
    "                             \n",
    "native_func_file('/scratch/edickie/ciftify_paper/HCP/output/',\n",
    "                hcp_anatypes[0],hcp_subject)\n"
   ]
  },
  {
   "cell_type": "code",
   "execution_count": 25,
   "metadata": {
    "collapsed": true
   },
   "outputs": [],
   "source": [
    "fmriprep_outputs='/scratch/edickie/ciftify_paper/HCP/output/'\n",
    "ciftify_outputs = '/scratch/edickie/ciftify_paper/HCP/output/ciftify'\n",
    "reference_anat='/scratch/edickie/ciftify_paper/HCP/output/ciftify/sub-100307/T1w/T1w.nii.gz'\n",
    "for anatype in hcp_anatypes:\n",
    "        subject = hcp_subject\n",
    "        take_firstvol_and_reslice(input_file = native_func_file(fmriprep_outputs,\n",
    "                                                               anatype,\n",
    "                                                               subject),\n",
    "                                 output_file = ciftify_hcp_native_reference(ciftify_outputs,\n",
    "                                                                       subject,\n",
    "                                                                       anatype),\n",
    "                                 reference_image = reference_anat)\n"
   ]
  },
  {
   "cell_type": "code",
   "execution_count": null,
   "metadata": {
    "collapsed": true
   },
   "outputs": [],
   "source": []
  }
 ],
 "metadata": {
  "kernelspec": {
   "display_name": "Python 3",
   "language": "python",
   "name": "python3"
  },
  "language_info": {
   "codemirror_mode": {
    "name": "ipython",
    "version": 3
   },
   "file_extension": ".py",
   "mimetype": "text/x-python",
   "name": "python",
   "nbconvert_exporter": "python",
   "pygments_lexer": "ipython3",
   "version": "3.6.1"
  }
 },
 "nbformat": 4,
 "nbformat_minor": 2
}
